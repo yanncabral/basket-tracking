{
 "cells": [
  {
   "cell_type": "code",
   "execution_count": 1,
   "metadata": {},
   "outputs": [
    {
     "name": "stderr",
     "output_type": "stream",
     "text": [
      "/Users/yann/Documents/Projects/Python/basket-tracking/.venv/lib/python3.8/site-packages/tqdm/auto.py:22: TqdmWarning: IProgress not found. Please update jupyter and ipywidgets. See https://ipywidgets.readthedocs.io/en/stable/user_install.html\n",
      "  from .autonotebook import tqdm as notebook_tqdm\n"
     ]
    }
   ],
   "source": [
    "from pathlib import Path\n",
    "import cv2\n",
    "from PIL import Image\n",
    "\n",
    "from core.data.services.default_video_service import DefaultVideoService as VideoService\n",
    "from core.data.services.default_homography_service import DefaultHomographyService as HomographyService\n",
    "from core.data.services.default_finder_service import DefaultFinderService as FinderService\n",
    "from core.infra.scene_objects.corners import Corners\n",
    "from core.infra.scene_objects.offset import Offset\n",
    "from core.infra.context.video_writer_context import VideoWriterContext"
   ]
  },
  {
   "cell_type": "code",
   "execution_count": 2,
   "metadata": {},
   "outputs": [],
   "source": [
    "assets = Path().cwd().joinpath(\"assets\")\n",
    "input_video_path = assets.joinpath(\"videosample_10s.mp4\")\n",
    "minimap_image_path = assets.joinpath(\"minimap.jpeg\")\n",
    "minimap_video_output_path = Path().cwd().joinpath(\"output\").joinpath(\"output.mp4\")"
   ]
  },
  {
   "cell_type": "code",
   "execution_count": 3,
   "metadata": {},
   "outputs": [],
   "source": [
    "minimap_image = cv2.imread(str(minimap_image_path))"
   ]
  },
  {
   "cell_type": "code",
   "execution_count": 4,
   "metadata": {},
   "outputs": [],
   "source": [
    "region_of_interest = Corners.from_rectangle(top_left_x=0, top_left_y=750, bottom_right_x=3840, bottom_right_y=1550)"
   ]
  },
  {
   "cell_type": "code",
   "execution_count": 5,
   "metadata": {},
   "outputs": [],
   "source": [
    "video_service = VideoService()\n",
    "homography_service = HomographyService()\n",
    "finder_service = FinderService()"
   ]
  },
  {
   "cell_type": "code",
   "execution_count": 6,
   "metadata": {},
   "outputs": [],
   "source": [
    "minimap_corners = Corners(\n",
    "    bottom_right=Offset(x=40, y=420),\n",
    "    bottom_left=Offset(x=40, y=42),\n",
    "    top_left=Offset(x=752, y=42),\n",
    "    top_right=Offset(x=752, y=420)\n",
    ")"
   ]
  },
  {
   "cell_type": "code",
   "execution_count": 7,
   "metadata": {},
   "outputs": [],
   "source": [
    "scenes = video_service.getScenesFromVideo(video_path=input_video_path, region_of_interest=region_of_interest)"
   ]
  },
  {
   "cell_type": "code",
   "execution_count": 11,
   "metadata": {},
   "outputs": [
    {
     "ename": "NameError",
     "evalue": "name 'VideoWriterContext' is not defined",
     "output_type": "error",
     "traceback": [
      "\u001b[0;31m---------------------------------------------------------------------------\u001b[0m",
      "\u001b[0;31mNameError\u001b[0m                                 Traceback (most recent call last)",
      "\u001b[1;32m/Users/yann/Documents/Projects/Python/basket-tracking/notebook.ipynb Cell 8'\u001b[0m in \u001b[0;36m<cell line: 1>\u001b[0;34m()\u001b[0m\n\u001b[0;32m----> <a href='vscode-notebook-cell:/Users/yann/Documents/Projects/Python/basket-tracking/notebook.ipynb#ch0000018?line=0'>1</a>\u001b[0m \u001b[39mwith\u001b[39;00m VideoWriterContext() \u001b[39mas\u001b[39;00m context:\n\u001b[1;32m      <a href='vscode-notebook-cell:/Users/yann/Documents/Projects/Python/basket-tracking/notebook.ipynb#ch0000018?line=1'>2</a>\u001b[0m     \u001b[39mfor\u001b[39;00m court_scene, court_frame \u001b[39min\u001b[39;00m scenes:\n\u001b[1;32m      <a href='vscode-notebook-cell:/Users/yann/Documents/Projects/Python/basket-tracking/notebook.ipynb#ch0000018?line=2'>3</a>\u001b[0m         court_corners \u001b[39m=\u001b[39m finder_service\u001b[39m.\u001b[39mfindCourt(court_frame)\u001b[39m.\u001b[39mcorners\n",
      "\u001b[0;31mNameError\u001b[0m: name 'VideoWriterContext' is not defined"
     ]
    }
   ],
   "source": [
    "with VideoWriterContext(path=minimap_video_output_path) as context:\n",
    "    for court_scene, court_frame in scenes:\n",
    "        court_corners = finder_service.findCourt(court_frame).corners\n",
    "        minimap_scene = homography_service.applyHomography(scene=court_scene, from_corners=court_corners, to_corners=minimap_corners)\n",
    "\n",
    "        frame = minimap_scene.draw_frame(frame=minimap_image)\n",
    "        \n",
    "        context.write(frame=frame)\n"
   ]
  },
  {
   "cell_type": "code",
   "execution_count": 10,
   "metadata": {},
   "outputs": [],
   "source": [
    "\n",
    "\n",
    "court_scene, court_frame = next(scenes)\n",
    "court_corners = finder_service.findCourt(court_frame).corners\n",
    "minimap_scene = homography_service.applyHomography(scene=court_scene, from_corners=court_corners, to_corners=minimap_corners)\n",
    "\n",
    "frame1 = minimap_scene.draw_frame(frame=minimap_image)\n",
    "frame2 = court_scene.draw_frame(frame=court_frame)\n",
    "Image.fromarray(frame1[:, :, ::-1]).show()\n",
    "Image.fromarray(frame2[:, :, ::-1]).show()\n"
   ]
  },
  {
   "cell_type": "code",
   "execution_count": null,
   "metadata": {},
   "outputs": [],
   "source": []
  },
  {
   "cell_type": "code",
   "execution_count": null,
   "metadata": {},
   "outputs": [],
   "source": []
  },
  {
   "cell_type": "code",
   "execution_count": null,
   "metadata": {},
   "outputs": [],
   "source": []
  },
  {
   "cell_type": "code",
   "execution_count": null,
   "metadata": {},
   "outputs": [],
   "source": []
  },
  {
   "cell_type": "code",
   "execution_count": null,
   "metadata": {},
   "outputs": [],
   "source": []
  },
  {
   "cell_type": "code",
   "execution_count": null,
   "metadata": {},
   "outputs": [],
   "source": []
  },
  {
   "cell_type": "code",
   "execution_count": null,
   "metadata": {},
   "outputs": [],
   "source": []
  }
 ],
 "metadata": {
  "kernelspec": {
   "display_name": "Python 3.8.9 ('.venv': poetry)",
   "language": "python",
   "name": "python3"
  },
  "language_info": {
   "codemirror_mode": {
    "name": "ipython",
    "version": 3
   },
   "file_extension": ".py",
   "mimetype": "text/x-python",
   "name": "python",
   "nbconvert_exporter": "python",
   "pygments_lexer": "ipython3",
   "version": "3.8.9"
  },
  "orig_nbformat": 4,
  "vscode": {
   "interpreter": {
    "hash": "a8b345434d548d3ce2ff54de1483e1f5098a6622790e13a4128ae378a382df8e"
   }
  }
 },
 "nbformat": 4,
 "nbformat_minor": 2
}
