{
 "cells": [
  {
   "cell_type": "code",
   "execution_count": 6,
   "metadata": {},
   "outputs": [],
   "source": [
    "from pathlib import Path\n",
    "import cv2\n",
    "from PIL import Image\n",
    "\n",
    "from core.data.services.default_video_service import DefaultVideoService as VideoService\n",
    "from core.data.services.default_homography_service import DefaultHomographyService as HomographyService\n",
    "from core.data.services.default_finder_service import DefaultFinderService as FinderService\n",
    "from core.data.services.default_image_service import DefaultImageService as ImageService\n",
    "from core.infra.scene_objects.corners import Corners\n",
    "from core.infra.scene_objects.offset import Offset\n",
    "from core.infra.context.video_writer_context import VideoWriterContext"
   ]
  },
  {
   "cell_type": "code",
   "execution_count": 7,
   "metadata": {},
   "outputs": [],
   "source": [
    "assets = Path().cwd().joinpath(\"assets\")\n",
    "input_video_path = assets.joinpath(\"videosample_10s.mp4\")\n",
    "minimap_image_path = assets.joinpath(\"minimap.jpeg\")\n",
    "minimap_video_output_path = Path().cwd().joinpath(\"output\").joinpath(\"output.mp4\")"
   ]
  },
  {
   "cell_type": "code",
   "execution_count": 8,
   "metadata": {},
   "outputs": [],
   "source": [
    "minimap_image = cv2.imread(str(minimap_image_path))"
   ]
  },
  {
   "cell_type": "code",
   "execution_count": 9,
   "metadata": {},
   "outputs": [],
   "source": [
    "region_of_interest = Corners.from_rectangle(top_left_x=0, top_left_y=750, bottom_right_x=3840, bottom_right_y=1550)"
   ]
  },
  {
   "cell_type": "code",
   "execution_count": 10,
   "metadata": {},
   "outputs": [],
   "source": [
    "video_service = VideoService()\n",
    "homography_service = HomographyService()\n",
    "finder_service = FinderService()\n",
    "image_service = ImageService()"
   ]
  },
  {
   "cell_type": "code",
   "execution_count": 11,
   "metadata": {},
   "outputs": [],
   "source": [
    "minimap_corners = Corners(\n",
    "    bottom_right=Offset(x=40, y=420),\n",
    "    bottom_left=Offset(x=40, y=42),\n",
    "    top_left=Offset(x=752, y=42),\n",
    "    top_right=Offset(x=752, y=420)\n",
    ")"
   ]
  },
  {
   "cell_type": "code",
   "execution_count": 12,
   "metadata": {},
   "outputs": [],
   "source": [
    "scenes = video_service.getScenesFromVideo(video_path=input_video_path, region_of_interest=region_of_interest)"
   ]
  },
  {
   "cell_type": "code",
   "execution_count": 13,
   "metadata": {},
   "outputs": [],
   "source": [
    "# with VideoWriterContext(path=minimap_video_output_path) as context:\n",
    "#     for index, (court_scene, court_frame) in enumerate(scenes):\n",
    "#         court_corners = finder_service.findCourt(court_frame).corners\n",
    "#         minimap_scene = homography_service.applyHomography(scene=court_scene, from_corners=court_corners, to_corners=minimap_corners)\n",
    "\n",
    "#         frame = minimap_scene.draw_frame(frame=minimap_image)\n",
    "        \n",
    "#         context.write(frame=frame)\n",
    "\n",
    "#         if index >= 20:\n",
    "#             break\n"
   ]
  },
  {
   "cell_type": "code",
   "execution_count": 14,
   "metadata": {},
   "outputs": [
    {
     "data": {
      "text/plain": [
       "'/Users/yann/Documents/Projects/Python/basket-tracking/output/output.mp4'"
      ]
     },
     "execution_count": 14,
     "metadata": {},
     "output_type": "execute_result"
    }
   ],
   "source": [
    "str(minimap_video_output_path)"
   ]
  },
  {
   "cell_type": "code",
   "execution_count": 15,
   "metadata": {},
   "outputs": [
    {
     "name": "stderr",
     "output_type": "stream",
     "text": [
      "/Users/yann/Documents/Projects/Python/basket-tracking/.venv/lib/python3.8/site-packages/torch/functional.py:568: UserWarning: torch.meshgrid: in an upcoming release, it will be required to pass the indexing argument. (Triggered internally at  /Users/distiller/project/pytorch/aten/src/ATen/native/TensorShape.cpp:2228.)\n",
      "  return _VF.meshgrid(tensors, **kwargs)  # type: ignore[attr-defined]\n"
     ]
    }
   ],
   "source": [
    "\n",
    "\n",
    "court_scene, court_frame = next(scenes)\n",
    "court_corners = finder_service.findCourt(court_frame).corners\n",
    "minimap_scene = homography_service.applyHomography(scene=court_scene, from_corners=court_corners, to_corners=minimap_corners)\n",
    "\n",
    "frame1 = minimap_scene.draw_frame(frame=minimap_image)\n",
    "frame2 = court_scene.draw_frame(frame=court_frame)\n",
    "Image.fromarray(frame1[:, :, ::-1]).show()\n",
    "Image.fromarray(frame2[:, :, ::-1]).show()\n"
   ]
  },
  {
   "cell_type": "markdown",
   "metadata": {},
   "source": [
    "### Studying color of clothes"
   ]
  },
  {
   "cell_type": "code",
   "execution_count": null,
   "metadata": {},
   "outputs": [],
   "source": []
  },
  {
   "cell_type": "code",
   "execution_count": 16,
   "metadata": {},
   "outputs": [],
   "source": [
    "show_frame = lambda frame: Image.fromarray(frame[:, :, ::-1]).show()"
   ]
  },
  {
   "cell_type": "code",
   "execution_count": 17,
   "metadata": {},
   "outputs": [],
   "source": [
    "show_frame(frame=court_scene.draw_players(frame=court_frame, type='rectangle'))"
   ]
  },
  {
   "cell_type": "code",
   "execution_count": 18,
   "metadata": {},
   "outputs": [],
   "source": [
    "import numpy as np\n",
    "\n",
    "\n",
    "copied_frame = court_frame.copy()\n",
    "for player in court_scene.players_inside_court:\n",
    "    upper_body: Corners = player.get_upper_body()\n",
    "\n",
    "    upper_body_frame = court_frame[int(upper_body.top_left.y):int(upper_body.bottom_right.y)-1, int(upper_body.top_left.x):int(upper_body.top_right.x)-1]\n",
    "    upper_body_frame_hsv = cv2.cvtColor(upper_body_frame, cv2.COLOR_BGR2HSV)\n",
    "\n",
    "    pixels = np.float32(upper_body_frame_hsv.reshape(-1, 3))\n",
    "\n",
    "    n_colors = 3\n",
    "\n",
    "    criteria = (cv2.TERM_CRITERIA_EPS + cv2.TERM_CRITERIA_MAX_ITER, 200, .1)\n",
    "    flags = cv2.KMEANS_RANDOM_CENTERS\n",
    "\n",
    "    _, labels, palette = cv2.kmeans(pixels, n_colors, None, criteria, 10, flags)\n",
    "    _, counts = np.unique(labels, return_counts=True)\n",
    "\n",
    "    dominant_hsv = palette[0]\n",
    "    dominant = cv2.cvtColor(np.uint8([[dominant_hsv]]), cv2.COLOR_HSV2BGR)[0][0]\n",
    "\n",
    "    \n",
    "    copied_frame = image_service.drawRectangleInFrame(frame=copied_frame, corners=upper_body, color=tuple(map(int, dominant)))\n",
    "\n",
    "\n",
    "show_frame(frame=copied_frame)\n"
   ]
  },
  {
   "cell_type": "code",
   "execution_count": 19,
   "metadata": {},
   "outputs": [
    {
     "ename": "NameError",
     "evalue": "name 'player_width' is not defined",
     "output_type": "error",
     "traceback": [
      "\u001b[0;31m---------------------------------------------------------------------------\u001b[0m",
      "\u001b[0;31mNameError\u001b[0m                                 Traceback (most recent call last)",
      "\u001b[1;32m/Users/yann/Documents/Projects/Python/basket-tracking/notebook.ipynb Cell 16'\u001b[0m in \u001b[0;36m<cell line: 1>\u001b[0;34m()\u001b[0m\n\u001b[1;32m      <a href='vscode-notebook-cell:/Users/yann/Documents/Projects/Python/basket-tracking/notebook.ipynb#ch0000015?line=0'>1</a>\u001b[0m upper_body \u001b[39m=\u001b[39m Corners(\n\u001b[0;32m----> <a href='vscode-notebook-cell:/Users/yann/Documents/Projects/Python/basket-tracking/notebook.ipynb#ch0000015?line=1'>2</a>\u001b[0m     bottom_left\u001b[39m=\u001b[39mOffset(x\u001b[39m=\u001b[39mplayer\u001b[39m.\u001b[39mcorners\u001b[39m.\u001b[39mbottom_left\u001b[39m.\u001b[39mx \u001b[39m+\u001b[39m player_width \u001b[39m/\u001b[39m \u001b[39m3\u001b[39m, y\u001b[39m=\u001b[39mplayer\u001b[39m.\u001b[39mcorners\u001b[39m.\u001b[39mbottom_left\u001b[39m.\u001b[39my \u001b[39m-\u001b[39m player_height \u001b[39m/\u001b[39m \u001b[39m2\u001b[39m),\n\u001b[1;32m      <a href='vscode-notebook-cell:/Users/yann/Documents/Projects/Python/basket-tracking/notebook.ipynb#ch0000015?line=2'>3</a>\u001b[0m     bottom_right\u001b[39m=\u001b[39mOffset(x\u001b[39m=\u001b[39mplayer\u001b[39m.\u001b[39mcorners\u001b[39m.\u001b[39mbottom_right\u001b[39m.\u001b[39mx \u001b[39m-\u001b[39m player_width \u001b[39m/\u001b[39m \u001b[39m3\u001b[39m, y\u001b[39m=\u001b[39mplayer\u001b[39m.\u001b[39mcorners\u001b[39m.\u001b[39mbottom_right\u001b[39m.\u001b[39my \u001b[39m-\u001b[39m player_height \u001b[39m/\u001b[39m \u001b[39m2\u001b[39m),\n\u001b[1;32m      <a href='vscode-notebook-cell:/Users/yann/Documents/Projects/Python/basket-tracking/notebook.ipynb#ch0000015?line=3'>4</a>\u001b[0m     top_right\u001b[39m=\u001b[39mOffset(x\u001b[39m=\u001b[39mplayer\u001b[39m.\u001b[39mcorners\u001b[39m.\u001b[39mtop_right\u001b[39m.\u001b[39mx \u001b[39m-\u001b[39m player_width \u001b[39m/\u001b[39m \u001b[39m3\u001b[39m, y\u001b[39m=\u001b[39mplayer\u001b[39m.\u001b[39mcorners\u001b[39m.\u001b[39mtop_right\u001b[39m.\u001b[39my \u001b[39m+\u001b[39m player_height \u001b[39m/\u001b[39m \u001b[39m8\u001b[39m),\n\u001b[1;32m      <a href='vscode-notebook-cell:/Users/yann/Documents/Projects/Python/basket-tracking/notebook.ipynb#ch0000015?line=4'>5</a>\u001b[0m     top_left\u001b[39m=\u001b[39mOffset(x\u001b[39m=\u001b[39mplayer\u001b[39m.\u001b[39mcorners\u001b[39m.\u001b[39mtop_left\u001b[39m.\u001b[39mx \u001b[39m+\u001b[39m player_width \u001b[39m/\u001b[39m \u001b[39m3\u001b[39m, y\u001b[39m=\u001b[39mplayer\u001b[39m.\u001b[39mcorners\u001b[39m.\u001b[39mtop_left\u001b[39m.\u001b[39my \u001b[39m+\u001b[39m player_height \u001b[39m/\u001b[39m \u001b[39m8\u001b[39m),\n\u001b[1;32m      <a href='vscode-notebook-cell:/Users/yann/Documents/Projects/Python/basket-tracking/notebook.ipynb#ch0000015?line=5'>6</a>\u001b[0m )\n\u001b[1;32m      <a href='vscode-notebook-cell:/Users/yann/Documents/Projects/Python/basket-tracking/notebook.ipynb#ch0000015?line=7'>8</a>\u001b[0m show_frame(frame\u001b[39m=\u001b[39mimage_service\u001b[39m.\u001b[39mdrawRectangleInFrame(frame\u001b[39m=\u001b[39mcourt_frame, corners\u001b[39m=\u001b[39mupper_body))\n",
      "\u001b[0;31mNameError\u001b[0m: name 'player_width' is not defined"
     ]
    }
   ],
   "source": [
    "upper_body = Corners(\n",
    "    bottom_left=Offset(x=player.corners.bottom_left.x + player_width / 3, y=player.corners.bottom_left.y - player_height / 2),\n",
    "    bottom_right=Offset(x=player.corners.bottom_right.x - player_width / 3, y=player.corners.bottom_right.y - player_height / 2),\n",
    "    top_right=Offset(x=player.corners.top_right.x - player_width / 3, y=player.corners.top_right.y + player_height / 8),\n",
    "    top_left=Offset(x=player.corners.top_left.x + player_width / 3, y=player.corners.top_left.y + player_height / 8),\n",
    ")\n",
    "\n",
    "show_frame(frame=image_service.drawRectangleInFrame(frame=court_frame, corners=upper_body))"
   ]
  },
  {
   "cell_type": "code",
   "execution_count": null,
   "metadata": {},
   "outputs": [],
   "source": [
    "upper_body"
   ]
  },
  {
   "cell_type": "code",
   "execution_count": null,
   "metadata": {},
   "outputs": [],
   "source": [
    "show_frame(frame=image_service.drawRectangleInFrame(frame=court_frame, corners=upper_body))"
   ]
  },
  {
   "cell_type": "code",
   "execution_count": null,
   "metadata": {},
   "outputs": [
    {
     "data": {
      "text/plain": [
       "Offset(x=3157, y=970)"
      ]
     },
     "execution_count": 13,
     "metadata": {},
     "output_type": "execute_result"
    }
   ],
   "source": [
    "court_scene.ball.position + Offset(x=1, y=2)"
   ]
  },
  {
   "cell_type": "code",
   "execution_count": 25,
   "metadata": {},
   "outputs": [],
   "source": [
    "\n",
    "ball = finder_service.findBall(frame=court_frame)\n",
    "if ball is not None:\n",
    "    show_frame(frame=court_scene.draw_ball(frame=court_frame))\n",
    "else:\n",
    "    print(\"No balls found\")\n"
   ]
  },
  {
   "cell_type": "code",
   "execution_count": null,
   "metadata": {},
   "outputs": [],
   "source": []
  },
  {
   "cell_type": "code",
   "execution_count": null,
   "metadata": {},
   "outputs": [],
   "source": []
  },
  {
   "cell_type": "code",
   "execution_count": null,
   "metadata": {},
   "outputs": [],
   "source": []
  },
  {
   "cell_type": "code",
   "execution_count": null,
   "metadata": {},
   "outputs": [],
   "source": []
  },
  {
   "cell_type": "code",
   "execution_count": null,
   "metadata": {},
   "outputs": [],
   "source": []
  },
  {
   "cell_type": "code",
   "execution_count": null,
   "metadata": {},
   "outputs": [],
   "source": []
  }
 ],
 "metadata": {
  "kernelspec": {
   "display_name": "Python 3.8.9 ('.venv': poetry)",
   "language": "python",
   "name": "python3"
  },
  "language_info": {
   "codemirror_mode": {
    "name": "ipython",
    "version": 3
   },
   "file_extension": ".py",
   "mimetype": "text/x-python",
   "name": "python",
   "nbconvert_exporter": "python",
   "pygments_lexer": "ipython3",
   "version": "3.8.9"
  },
  "orig_nbformat": 4,
  "vscode": {
   "interpreter": {
    "hash": "a8b345434d548d3ce2ff54de1483e1f5098a6622790e13a4128ae378a382df8e"
   }
  }
 },
 "nbformat": 4,
 "nbformat_minor": 2
}
