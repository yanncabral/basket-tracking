{
 "cells": [
  {
   "cell_type": "code",
   "execution_count": 2,
   "metadata": {},
   "outputs": [
    {
     "name": "stderr",
     "output_type": "stream",
     "text": [
      "/Users/yann/Documents/Projects/Python/basket-tracking/.venv/lib/python3.8/site-packages/tqdm/auto.py:22: TqdmWarning: IProgress not found. Please update jupyter and ipywidgets. See https://ipywidgets.readthedocs.io/en/stable/user_install.html\n",
      "  from .autonotebook import tqdm as notebook_tqdm\n"
     ]
    },
    {
     "ename": "ImportError",
     "evalue": "cannot import name 'FinderService' from partially initialized module 'core' (most likely due to a circular import) (/Users/yann/Documents/Projects/Python/basket-tracking/core/__init__.py)",
     "output_type": "error",
     "traceback": [
      "\u001b[0;31m---------------------------------------------------------------------------\u001b[0m",
      "\u001b[0;31mImportError\u001b[0m                               Traceback (most recent call last)",
      "\u001b[1;32m/Users/yann/Documents/Projects/Python/basket-tracking/notebook.ipynb Cell 1'\u001b[0m in \u001b[0;36m<cell line: 2>\u001b[0;34m()\u001b[0m\n\u001b[1;32m      <a href='vscode-notebook-cell:/Users/yann/Documents/Projects/Python/basket-tracking/notebook.ipynb#ch0000002?line=0'>1</a>\u001b[0m \u001b[39mfrom\u001b[39;00m \u001b[39mpathlib\u001b[39;00m \u001b[39mimport\u001b[39;00m Path\n\u001b[0;32m----> <a href='vscode-notebook-cell:/Users/yann/Documents/Projects/Python/basket-tracking/notebook.ipynb#ch0000002?line=1'>2</a>\u001b[0m \u001b[39mfrom\u001b[39;00m \u001b[39mcore\u001b[39;00m \u001b[39mimport\u001b[39;00m VideoService\n",
      "File \u001b[0;32m~/Documents/Projects/Python/basket-tracking/core/__init__.py:3\u001b[0m, in \u001b[0;36m<module>\u001b[0;34m\u001b[0m\n\u001b[1;32m      1\u001b[0m __version__ \u001b[39m=\u001b[39m \u001b[39m'\u001b[39m\u001b[39m0.1.0\u001b[39m\u001b[39m'\u001b[39m\n\u001b[0;32m----> 3\u001b[0m \u001b[39mfrom\u001b[39;00m \u001b[39mcore\u001b[39;00m\u001b[39m.\u001b[39;00m\u001b[39mdata\u001b[39;00m\u001b[39m.\u001b[39;00m\u001b[39mservices\u001b[39;00m \u001b[39mimport\u001b[39;00m DefaultVideoService \u001b[39mas\u001b[39;00m VideoService\n\u001b[1;32m      4\u001b[0m \u001b[39mfrom\u001b[39;00m \u001b[39mcore\u001b[39;00m\u001b[39m.\u001b[39;00m\u001b[39mdata\u001b[39;00m\u001b[39m.\u001b[39;00m\u001b[39mservices\u001b[39;00m \u001b[39mimport\u001b[39;00m DefaultFinderService \u001b[39mas\u001b[39;00m FinderService\n\u001b[1;32m      5\u001b[0m \u001b[39mfrom\u001b[39;00m \u001b[39mcore\u001b[39;00m\u001b[39m.\u001b[39;00m\u001b[39mdomain\u001b[39;00m\u001b[39m.\u001b[39;00m\u001b[39mentities\u001b[39;00m \u001b[39mimport\u001b[39;00m \u001b[39m*\u001b[39m\n",
      "File \u001b[0;32m~/Documents/Projects/Python/basket-tracking/core/data/__init__.py:1\u001b[0m, in \u001b[0;36m<module>\u001b[0;34m\u001b[0m\n\u001b[0;32m----> 1\u001b[0m \u001b[39mfrom\u001b[39;00m \u001b[39mcore\u001b[39;00m\u001b[39m.\u001b[39;00m\u001b[39mdata\u001b[39;00m\u001b[39m.\u001b[39;00m\u001b[39mservices\u001b[39;00m \u001b[39mimport\u001b[39;00m DefaultFinderService, DefaultVideoService\n",
      "File \u001b[0;32m~/Documents/Projects/Python/basket-tracking/core/data/services/__init__.py:2\u001b[0m, in \u001b[0;36m<module>\u001b[0;34m\u001b[0m\n\u001b[1;32m      1\u001b[0m \u001b[39mfrom\u001b[39;00m \u001b[39mcore\u001b[39;00m\u001b[39m.\u001b[39;00m\u001b[39mdata\u001b[39;00m\u001b[39m.\u001b[39;00m\u001b[39mservices\u001b[39;00m\u001b[39m.\u001b[39;00m\u001b[39mfinder_service\u001b[39;00m \u001b[39mimport\u001b[39;00m DefaultFinderService\n\u001b[0;32m----> 2\u001b[0m \u001b[39mfrom\u001b[39;00m \u001b[39mcore\u001b[39;00m\u001b[39m.\u001b[39;00m\u001b[39mdata\u001b[39;00m\u001b[39m.\u001b[39;00m\u001b[39mservices\u001b[39;00m\u001b[39m.\u001b[39;00m\u001b[39mvideo_service\u001b[39;00m \u001b[39mimport\u001b[39;00m DefaultVideoService\n",
      "File \u001b[0;32m~/Documents/Projects/Python/basket-tracking/core/data/services/video_service.py:7\u001b[0m, in \u001b[0;36m<module>\u001b[0;34m\u001b[0m\n\u001b[1;32m      4\u001b[0m \u001b[39mfrom\u001b[39;00m \u001b[39mcore\u001b[39;00m\u001b[39m.\u001b[39;00m\u001b[39mdomain\u001b[39;00m\u001b[39m.\u001b[39;00m\u001b[39mentities\u001b[39;00m\u001b[39m.\u001b[39;00m\u001b[39mscene\u001b[39;00m \u001b[39mimport\u001b[39;00m Scene\n\u001b[1;32m      5\u001b[0m \u001b[39mfrom\u001b[39;00m \u001b[39mcore\u001b[39;00m\u001b[39m.\u001b[39;00m\u001b[39mdomain\u001b[39;00m\u001b[39m.\u001b[39;00m\u001b[39mservices\u001b[39;00m\u001b[39m.\u001b[39;00m\u001b[39mvideo_service\u001b[39;00m \u001b[39mimport\u001b[39;00m VideoService\n\u001b[0;32m----> 7\u001b[0m \u001b[39mfrom\u001b[39;00m \u001b[39mcore\u001b[39;00m \u001b[39mimport\u001b[39;00m FinderService\n\u001b[1;32m      9\u001b[0m _finder_service \u001b[39m=\u001b[39m FinderService()\n\u001b[1;32m     12\u001b[0m \u001b[39mclass\u001b[39;00m \u001b[39mDefaultVideoService\u001b[39;00m(VideoService):\n",
      "\u001b[0;31mImportError\u001b[0m: cannot import name 'FinderService' from partially initialized module 'core' (most likely due to a circular import) (/Users/yann/Documents/Projects/Python/basket-tracking/core/__init__.py)"
     ]
    }
   ],
   "source": [
    "from pathlib import Path\n",
    "from core import VideoService"
   ]
  },
  {
   "cell_type": "code",
   "execution_count": null,
   "metadata": {},
   "outputs": [
    {
     "ename": "NameError",
     "evalue": "name 'Path' is not defined",
     "output_type": "error",
     "traceback": [
      "\u001b[0;31m---------------------------------------------------------------------------\u001b[0m",
      "\u001b[0;31mNameError\u001b[0m                                 Traceback (most recent call last)",
      "\u001b[1;32m/Users/yann/Documents/Projects/Python/basket-tracking/notebook.ipynb Cell 2'\u001b[0m in \u001b[0;36m<cell line: 1>\u001b[0;34m()\u001b[0m\n\u001b[0;32m----> <a href='vscode-notebook-cell:/Users/yann/Documents/Projects/Python/basket-tracking/notebook.ipynb#ch0000001?line=0'>1</a>\u001b[0m input_video_path \u001b[39m=\u001b[39m Path()\u001b[39m.\u001b[39mcwd()\u001b[39m.\u001b[39mjoinpath(\u001b[39m\"\u001b[39m\u001b[39massets\u001b[39m\u001b[39m\"\u001b[39m)\u001b[39m.\u001b[39mjoinpath(\u001b[39m\"\u001b[39m\u001b[39mvideosample_10s.mp4\u001b[39m\u001b[39m\"\u001b[39m)\n\u001b[1;32m      <a href='vscode-notebook-cell:/Users/yann/Documents/Projects/Python/basket-tracking/notebook.ipynb#ch0000001?line=1'>2</a>\u001b[0m input_video_path\u001b[39m.\u001b[39mis_file()\n\u001b[1;32m      <a href='vscode-notebook-cell:/Users/yann/Documents/Projects/Python/basket-tracking/notebook.ipynb#ch0000001?line=2'>3</a>\u001b[0m video_service \u001b[39m=\u001b[39m VideoService()\n",
      "\u001b[0;31mNameError\u001b[0m: name 'Path' is not defined"
     ]
    }
   ],
   "source": [
    "input_video_path = Path().cwd().joinpath(\"assets\").joinpath(\"videosample_10s.mp4\")\n",
    "input_video_path.is_file()\n",
    "video_service = VideoService()\n",
    "\n",
    "scenes = video_service.getScenesFromVideo(str(input_video_path))\n",
    "\n",
    "scene = next(scenes)"
   ]
  },
  {
   "cell_type": "code",
   "execution_count": null,
   "metadata": {},
   "outputs": [],
   "source": []
  }
 ],
 "metadata": {
  "kernelspec": {
   "display_name": "Python 3.8.9 ('.venv': poetry)",
   "language": "python",
   "name": "python3"
  },
  "language_info": {
   "codemirror_mode": {
    "name": "ipython",
    "version": 3
   },
   "file_extension": ".py",
   "mimetype": "text/x-python",
   "name": "python",
   "nbconvert_exporter": "python",
   "pygments_lexer": "ipython3",
   "version": "3.8.9"
  },
  "orig_nbformat": 4,
  "vscode": {
   "interpreter": {
    "hash": "a8b345434d548d3ce2ff54de1483e1f5098a6622790e13a4128ae378a382df8e"
   }
  }
 },
 "nbformat": 4,
 "nbformat_minor": 2
}
